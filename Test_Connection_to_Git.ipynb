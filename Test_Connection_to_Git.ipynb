{
  "nbformat": 4,
  "nbformat_minor": 0,
  "metadata": {
    "colab": {
      "name": "Test Connection to Git.ipynb",
      "provenance": [],
      "authorship_tag": "ABX9TyMzOPGlzS6BwRQXhfSqw4Bi",
      "include_colab_link": true
    },
    "kernelspec": {
      "name": "python3",
      "display_name": "Python 3"
    },
    "language_info": {
      "name": "python"
    }
  },
  "cells": [
    {
      "cell_type": "markdown",
      "metadata": {
        "id": "view-in-github",
        "colab_type": "text"
      },
      "source": [
        "<a href=\"https://colab.research.google.com/github/JaeeKim/JaeeKim/blob/main/Test_Connection_to_Git.ipynb\" target=\"_parent\"><img src=\"https://colab.research.google.com/assets/colab-badge.svg\" alt=\"Open In Colab\"/></a>"
      ]
    },
    {
      "cell_type": "code",
      "metadata": {
        "colab": {
          "base_uri": "https://localhost:8080/"
        },
        "id": "Ix3KnYWnwCyY",
        "outputId": "ff72c242-5bbe-4fd1-f67d-d47d1344a7c0"
      },
      "source": [
        "print(\"hello world\")"
      ],
      "execution_count": 1,
      "outputs": [
        {
          "output_type": "stream",
          "text": [
            "hello world\n"
          ],
          "name": "stdout"
        }
      ]
    },
    {
      "cell_type": "markdown",
      "metadata": {
        "id": "eF1bn2W3wX14"
      },
      "source": [
        "# How to use markdown\n",
        "## heading 2\n",
        "### heading 3\n",
        "this is body text"
      ]
    }
  ]
}